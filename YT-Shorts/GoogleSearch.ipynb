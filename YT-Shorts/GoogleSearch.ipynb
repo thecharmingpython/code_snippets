{
 "cells": [
  {
   "cell_type": "code",
   "execution_count": 23,
   "id": "00894b5d",
   "metadata": {},
   "outputs": [],
   "source": [
    "from googlesearch import search"
   ]
  },
  {
   "cell_type": "code",
   "execution_count": 26,
   "id": "0b450e6e",
   "metadata": {},
   "outputs": [
    {
     "name": "stdout",
     "output_type": "stream",
     "text": [
      "http://charmingpython.com/\n",
      "https://charmingpython.com/blog/\n",
      "http://charmingpython.com/category/pandas/\n",
      "https://gnosis.cx/publish/tech_index_cp.html\n",
      "https://www.youtube.com/channel/UCGCXr1hD7G7csynqcoBOB5g\n",
      "https://gnosis.cx/publish/programming/charming_python_5.html\n",
      "https://www.oreilly.com/people/david-mertz/\n",
      "https://github.com/ramlaxman/CharmingPython\n",
      "https://imasters.com.br/back-end/charming-python-facil-coleta-de-dados-da-web-com-mechanize-e-beautiful-soup\n",
      "https://uk.linkedin.com/in/martinrhodes1\n"
     ]
    }
   ],
   "source": [
    "try:\n",
    "    from googlesearch import search\n",
    "except ImportError: \n",
    "    print(\"No module named 'google' found\")\n",
    " \n",
    "# to search\n",
    "query = \"CharmingPython.com\"\n",
    " \n",
    "for j in search(query, tld=\"com\", num=10, stop=10, pause=2):\n",
    "    print(j)"
   ]
  },
  {
   "cell_type": "code",
   "execution_count": null,
   "id": "8e6828bf",
   "metadata": {},
   "outputs": [],
   "source": [
    "\n"
   ]
  },
  {
   "cell_type": "code",
   "execution_count": null,
   "id": "819178af",
   "metadata": {},
   "outputs": [],
   "source": []
  }
 ],
 "metadata": {
  "kernelspec": {
   "display_name": "Python 3 (ipykernel)",
   "language": "python",
   "name": "python3"
  },
  "language_info": {
   "codemirror_mode": {
    "name": "ipython",
    "version": 3
   },
   "file_extension": ".py",
   "mimetype": "text/x-python",
   "name": "python",
   "nbconvert_exporter": "python",
   "pygments_lexer": "ipython3",
   "version": "3.11.5"
  }
 },
 "nbformat": 4,
 "nbformat_minor": 5
}
